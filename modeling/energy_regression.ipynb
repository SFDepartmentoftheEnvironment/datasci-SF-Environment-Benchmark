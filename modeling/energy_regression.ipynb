{
 "cells": [
  {
   "cell_type": "code",
   "execution_count": 1,
   "metadata": {
    "collapsed": false
   },
   "outputs": [],
   "source": [
    "from __future__ import division\n",
    "import numpy as np\n",
    "import pandas as pd\n",
    "from sklearn.linear_model import LinearRegression\n",
    "from sklearn.linear_model import Ridge\n",
    "from sklearn.linear_model import Lasso\n",
    "from sklearn.linear_model import ElasticNet\n",
    "from sklearn.metrics import mean_squared_error\n",
    "from sklearn.cross_validation import train_test_split\n",
    "from statsmodels.graphics.gofplots import qqplot\n",
    "from statsmodels.stats.diagnostic import het_breushpagan\n",
    "import statsmodels.api as sm\n",
    "import statsmodels.formula.api as smf\n",
    "import matplotlib.pyplot as plt\n",
    "% matplotlib inline"
   ]
  },
  {
   "cell_type": "code",
   "execution_count": 23,
   "metadata": {
    "collapsed": true
   },
   "outputs": [],
   "source": [
    "energy = pd.read_csv('Energy_Performance.csv', na_values='?')"
   ]
  },
  {
   "cell_type": "code",
   "execution_count": 24,
   "metadata": {
    "collapsed": false
   },
   "outputs": [
    {
     "data": {
      "text/plain": [
       "(661, 9)"
      ]
     },
     "execution_count": 24,
     "metadata": {},
     "output_type": "execute_result"
    }
   ],
   "source": [
    "energy = energy.dropna()\n",
    "energy.head()\n",
    "#energy.pop('2014-15 Percent Better than National Median Site EUI')\n",
    "#energy.pop('2014-15 Percent Better than National Median Source EUI')\n",
    "energy.shape"
   ]
  },
  {
   "cell_type": "code",
   "execution_count": 25,
   "metadata": {
    "collapsed": false
   },
   "outputs": [
    {
     "data": {
      "text/html": [
       "<div>\n",
       "<table border=\"1\" class=\"dataframe\">\n",
       "  <thead>\n",
       "    <tr style=\"text-align: right;\">\n",
       "      <th></th>\n",
       "      <th>Property_Type</th>\n",
       "      <th>ENERGY_STAR_Score</th>\n",
       "      <th>SiteEUI</th>\n",
       "      <th>SourceEUI</th>\n",
       "      <th>GHG_Emissions</th>\n",
       "      <th>GHG_Emissions_Intensity</th>\n",
       "      <th>Weather_Site_EUI</th>\n",
       "      <th>Weather_Source_EUI</th>\n",
       "      <th>Floor_Area</th>\n",
       "    </tr>\n",
       "  </thead>\n",
       "  <tbody>\n",
       "    <tr>\n",
       "      <th>5</th>\n",
       "      <td>Office</td>\n",
       "      <td>95</td>\n",
       "      <td>36.3</td>\n",
       "      <td>99.9</td>\n",
       "      <td>238.0</td>\n",
       "      <td>2.8</td>\n",
       "      <td>36.9</td>\n",
       "      <td>100.6</td>\n",
       "      <td>97025</td>\n",
       "    </tr>\n",
       "    <tr>\n",
       "      <th>8</th>\n",
       "      <td>Office</td>\n",
       "      <td>89</td>\n",
       "      <td>55.1</td>\n",
       "      <td>158.0</td>\n",
       "      <td>2401.0</td>\n",
       "      <td>4.3</td>\n",
       "      <td>55.8</td>\n",
       "      <td>158.7</td>\n",
       "      <td>700079</td>\n",
       "    </tr>\n",
       "    <tr>\n",
       "      <th>19</th>\n",
       "      <td>Office</td>\n",
       "      <td>95</td>\n",
       "      <td>50.1</td>\n",
       "      <td>130.1</td>\n",
       "      <td>1063.7</td>\n",
       "      <td>3.7</td>\n",
       "      <td>51.7</td>\n",
       "      <td>131.8</td>\n",
       "      <td>286510</td>\n",
       "    </tr>\n",
       "    <tr>\n",
       "      <th>22</th>\n",
       "      <td>Office</td>\n",
       "      <td>91</td>\n",
       "      <td>53.7</td>\n",
       "      <td>145.2</td>\n",
       "      <td>1449.5</td>\n",
       "      <td>4.1</td>\n",
       "      <td>53.9</td>\n",
       "      <td>145.1</td>\n",
       "      <td>420700</td>\n",
       "    </tr>\n",
       "    <tr>\n",
       "      <th>25</th>\n",
       "      <td>Worship Facility</td>\n",
       "      <td>97</td>\n",
       "      <td>10.4</td>\n",
       "      <td>24.0</td>\n",
       "      <td>27.9</td>\n",
       "      <td>0.7</td>\n",
       "      <td>10.4</td>\n",
       "      <td>24.0</td>\n",
       "      <td>38051</td>\n",
       "    </tr>\n",
       "  </tbody>\n",
       "</table>\n",
       "</div>"
      ],
      "text/plain": [
       "       Property_Type  ENERGY_STAR_Score  SiteEUI  SourceEUI  GHG_Emissions  \\\n",
       "5             Office                 95     36.3       99.9          238.0   \n",
       "8             Office                 89     55.1      158.0         2401.0   \n",
       "19            Office                 95     50.1      130.1         1063.7   \n",
       "22            Office                 91     53.7      145.2         1449.5   \n",
       "25  Worship Facility                 97     10.4       24.0           27.9   \n",
       "\n",
       "    GHG_Emissions_Intensity  Weather_Site_EUI  Weather_Source_EUI  Floor_Area  \n",
       "5                       2.8              36.9               100.6       97025  \n",
       "8                       4.3              55.8               158.7      700079  \n",
       "19                      3.7              51.7               131.8      286510  \n",
       "22                      4.1              53.9               145.1      420700  \n",
       "25                      0.7              10.4                24.0       38051  "
      ]
     },
     "execution_count": 25,
     "metadata": {},
     "output_type": "execute_result"
    }
   ],
   "source": [
    "energy.head()"
   ]
  },
  {
   "cell_type": "code",
   "execution_count": 26,
   "metadata": {
    "collapsed": false
   },
   "outputs": [],
   "source": [
    "Office = energy[energy['Property_Type'] == \"Office\"]\n",
    "Worship_Facility = energy[energy['Property_Type'] == \"Worship Facility\"]\n",
    "Bank_Branch = energy[energy['Property_Type'] == \"Bank Branch\"]\n",
    "Data_Center = energy[energy['Property_Type'] == \"Data Center\"]\n",
    "Distribution_Center = energy[energy['Property_Type'] == \"Distribution Center\"]\n",
    "Financial_Office = energy[energy['Property_Type'] == \"Financial Office\"]\n",
    "Hospital = energy[energy['Property_Type'] == 'Hospital (General Medical & Surgical)']\n",
    "Hotel = energy[energy['Property_Type'] == 'Hotel']\n",
    "School = energy[energy['Property_Type'] == 'K-12 School']\n",
    "Medical_office = energy[energy['Property_Type'] == 'Medical Office']\n",
    "Mixed_use_property = energy[energy['Property_Type'] == 'Mixed Use Property']\n",
    "Multifamily_Housing = energy[energy['Property_Type'] == 'Multifamily Housing']\n",
    "Non_Refrigerated_Warehouse = energy[energy['Property_Type'] == 'Non-Refrigerated Warehouse']\n",
    "Other_Specialty_Hospital = energy[energy['Property_Type'] == 'Other - Specialty Hospital']\n",
    "Refrigerated_Warehouse = energy[energy['Property_Type'] == 'Refrigerated Warehouse']\n",
    "Retail_Store = energy[energy['Property_Type'] == 'Retail Store']\n",
    "Senior_Care_Community = energy[energy['Property_Type'] == 'Senior Care Community']\n",
    "Supermarket_Grocery_Store = energy[energy['Property_Type'] == 'Supermarket/Grocery Store']"
   ]
  },
  {
   "cell_type": "code",
   "execution_count": 74,
   "metadata": {
    "collapsed": false
   },
   "outputs": [
    {
     "name": "stdout",
     "output_type": "stream",
     "text": [
      "431\n",
      "23\n",
      "7\n",
      "2\n",
      "9\n",
      "2\n",
      "3\n",
      "77\n",
      "7\n",
      "12\n",
      "4\n",
      "1\n",
      "24\n",
      "1\n",
      "3\n",
      "37\n",
      "3\n",
      "15\n"
     ]
    }
   ],
   "source": [
    "print len(Office)\n",
    "print len(Worship_Facility)\n",
    "print len(Bank_Branch)\n",
    "print len(Data_Center)\n",
    "print len(Distribution_Center)\n",
    "print len(Financial_Office)\n",
    "print len(Hospital)\n",
    "print len(Hotel)\n",
    "print len(School)\n",
    "print len(Medical_office)\n",
    "print len(Mixed_use_property)\n",
    "print len(Multifamily_Housing)\n",
    "print len(Non_Refrigerated_Warehouse) \n",
    "print len(Other_Specialty_Hospital)\n",
    "print len(Refrigerated_Warehouse)\n",
    "print len(Retail_Store)\n",
    "print len(Senior_Care_Community)\n",
    "print len(Supermarket_Grocery_Store)"
   ]
  },
  {
   "cell_type": "code",
   "execution_count": 82,
   "metadata": {
    "collapsed": false
   },
   "outputs": [
    {
     "name": "stdout",
     "output_type": "stream",
     "text": [
      "79.1879350348\n",
      "77.347826087\n",
      "75.4285714286\n",
      "10.5\n",
      "58.0\n",
      "77.0\n",
      "49.0\n",
      "58.3116883117\n",
      "89.8571428571\n",
      "61.1666666667\n",
      "80.25\n",
      "96.0\n",
      "67.8333333333\n",
      "88.0\n",
      "17.3333333333\n",
      "57.8918918919\n",
      "57.0\n",
      "29.2\n"
     ]
    }
   ],
   "source": [
    "print np.mean(Office['ENERGY_STAR_Score'])\n",
    "print np.mean(Worship_Facility['ENERGY_STAR_Score'])\n",
    "print np.mean(Bank_Branch['ENERGY_STAR_Score'])\n",
    "print np.mean(Data_Center['ENERGY_STAR_Score'])\n",
    "print np.mean(Distribution_Center['ENERGY_STAR_Score'])\n",
    "print np.mean(Financial_Office['ENERGY_STAR_Score'])\n",
    "print np.mean(Hospital['ENERGY_STAR_Score'])\n",
    "print np.mean(Hotel['ENERGY_STAR_Score'])\n",
    "print np.mean(School['ENERGY_STAR_Score'])\n",
    "print np.mean(Medical_office['ENERGY_STAR_Score'])\n",
    "print np.mean(Mixed_use_property['ENERGY_STAR_Score'])\n",
    "print np.mean(Multifamily_Housing['ENERGY_STAR_Score'])\n",
    "print np.mean(Non_Refrigerated_Warehouse['ENERGY_STAR_Score']) \n",
    "print np.mean(Other_Specialty_Hospital['ENERGY_STAR_Score'])\n",
    "print np.mean(Refrigerated_Warehouse['ENERGY_STAR_Score'])\n",
    "print np.mean(Retail_Store['ENERGY_STAR_Score'])\n",
    "print np.mean(Senior_Care_Community['ENERGY_STAR_Score'])\n",
    "print np.mean(Supermarket_Grocery_Store['ENERGY_STAR_Score'])"
   ]
  },
  {
   "cell_type": "code",
   "execution_count": 94,
   "metadata": {
    "collapsed": false
   },
   "outputs": [
    {
     "data": {
      "text/plain": [
       "<matplotlib.axes._subplots.AxesSubplot at 0x10d3fbc90>"
      ]
     },
     "execution_count": 94,
     "metadata": {},
     "output_type": "execute_result"
    },
    {
     "data": {
      "image/png": "[encoded data removed]",
      "text/plain": [
       "<matplotlib.figure.Figure at 0x10ca40350>"
      ]
     },
     "metadata": {},
     "output_type": "display_data"
    }
   ],
   "source": [
    "Office['ENERGY_STAR_Score'].plot(kind = 'box')"
   ]
  },
  {
   "cell_type": "code",
   "execution_count": 95,
   "metadata": {
    "collapsed": false
   },
   "outputs": [
    {
     "data": {
      "text/plain": [
       "<matplotlib.axes._subplots.AxesSubplot at 0x10c3a8710>"
      ]
     },
     "execution_count": 95,
     "metadata": {},
     "output_type": "execute_result"
    },
    {
     "data": {
      "image/png": "[encoded data removed]",
      "text/plain": [
       "<matplotlib.figure.Figure at 0x10d3bd810>"
      ]
     },
     "metadata": {},
     "output_type": "display_data"
    }
   ],
   "source": [
    "Supermarket_Grocery_Store['ENERGY_STAR_Score'].plot(kind = 'box')"
   ]
  },
  {
   "cell_type": "code",
   "execution_count": 27,
   "metadata": {
    "collapsed": true
   },
   "outputs": [],
   "source": [
    "categories = energy['Property_Type']"
   ]
  },
  {
   "cell_type": "code",
   "execution_count": 28,
   "metadata": {
    "collapsed": false
   },
   "outputs": [
    {
     "data": {
      "text/plain": [
       "{'Bank Branch',\n",
       " 'Data Center',\n",
       " 'Distribution Center',\n",
       " 'Financial Office',\n",
       " 'Hospital (General Medical & Surgical)',\n",
       " 'Hotel',\n",
       " 'K-12 School',\n",
       " 'Medical Office',\n",
       " 'Mixed Use Property',\n",
       " 'Multifamily Housing',\n",
       " 'Non-Refrigerated Warehouse',\n",
       " 'Office',\n",
       " 'Other - Specialty Hospital',\n",
       " 'Refrigerated Warehouse',\n",
       " 'Retail Store',\n",
       " 'Senior Care Community',\n",
       " 'Supermarket/Grocery Store',\n",
       " 'Worship Facility'}"
      ]
     },
     "execution_count": 28,
     "metadata": {},
     "output_type": "execute_result"
    }
   ],
   "source": [
    "set(categories.values)"
   ]
  },
  {
   "cell_type": "code",
   "execution_count": 29,
   "metadata": {
    "collapsed": false
   },
   "outputs": [
    {
     "data": {
      "text/html": [
       "<div>\n",
       "<table border=\"1\" class=\"dataframe\">\n",
       "  <thead>\n",
       "    <tr style=\"text-align: right;\">\n",
       "      <th></th>\n",
       "      <th>Property_Type</th>\n",
       "      <th>ENERGY_STAR_Score</th>\n",
       "      <th>SiteEUI</th>\n",
       "      <th>SourceEUI</th>\n",
       "      <th>GHG_Emissions</th>\n",
       "      <th>GHG_Emissions_Intensity</th>\n",
       "      <th>Weather_Site_EUI</th>\n",
       "      <th>Weather_Source_EUI</th>\n",
       "      <th>Floor_Area</th>\n",
       "    </tr>\n",
       "  </thead>\n",
       "  <tbody>\n",
       "    <tr>\n",
       "      <th>5</th>\n",
       "      <td>Office</td>\n",
       "      <td>95</td>\n",
       "      <td>36.3</td>\n",
       "      <td>99.9</td>\n",
       "      <td>238.0</td>\n",
       "      <td>2.8</td>\n",
       "      <td>36.9</td>\n",
       "      <td>100.6</td>\n",
       "      <td>97025</td>\n",
       "    </tr>\n",
       "    <tr>\n",
       "      <th>8</th>\n",
       "      <td>Office</td>\n",
       "      <td>89</td>\n",
       "      <td>55.1</td>\n",
       "      <td>158.0</td>\n",
       "      <td>2401.0</td>\n",
       "      <td>4.3</td>\n",
       "      <td>55.8</td>\n",
       "      <td>158.7</td>\n",
       "      <td>700079</td>\n",
       "    </tr>\n",
       "    <tr>\n",
       "      <th>19</th>\n",
       "      <td>Office</td>\n",
       "      <td>95</td>\n",
       "      <td>50.1</td>\n",
       "      <td>130.1</td>\n",
       "      <td>1063.7</td>\n",
       "      <td>3.7</td>\n",
       "      <td>51.7</td>\n",
       "      <td>131.8</td>\n",
       "      <td>286510</td>\n",
       "    </tr>\n",
       "    <tr>\n",
       "      <th>22</th>\n",
       "      <td>Office</td>\n",
       "      <td>91</td>\n",
       "      <td>53.7</td>\n",
       "      <td>145.2</td>\n",
       "      <td>1449.5</td>\n",
       "      <td>4.1</td>\n",
       "      <td>53.9</td>\n",
       "      <td>145.1</td>\n",
       "      <td>420700</td>\n",
       "    </tr>\n",
       "    <tr>\n",
       "      <th>26</th>\n",
       "      <td>Office</td>\n",
       "      <td>63</td>\n",
       "      <td>95.2</td>\n",
       "      <td>192.0</td>\n",
       "      <td>499.8</td>\n",
       "      <td>6.3</td>\n",
       "      <td>94.5</td>\n",
       "      <td>189.7</td>\n",
       "      <td>94000</td>\n",
       "    </tr>\n",
       "  </tbody>\n",
       "</table>\n",
       "</div>"
      ],
      "text/plain": [
       "   Property_Type  ENERGY_STAR_Score  SiteEUI  SourceEUI  GHG_Emissions  \\\n",
       "5         Office                 95     36.3       99.9          238.0   \n",
       "8         Office                 89     55.1      158.0         2401.0   \n",
       "19        Office                 95     50.1      130.1         1063.7   \n",
       "22        Office                 91     53.7      145.2         1449.5   \n",
       "26        Office                 63     95.2      192.0          499.8   \n",
       "\n",
       "    GHG_Emissions_Intensity  Weather_Site_EUI  Weather_Source_EUI  Floor_Area  \n",
       "5                       2.8              36.9               100.6       97025  \n",
       "8                       4.3              55.8               158.7      700079  \n",
       "19                      3.7              51.7               131.8      286510  \n",
       "22                      4.1              53.9               145.1      420700  \n",
       "26                      6.3              94.5               189.7       94000  "
      ]
     },
     "execution_count": 29,
     "metadata": {},
     "output_type": "execute_result"
    }
   ],
   "source": [
    "Office.head()"
   ]
  },
  {
   "cell_type": "code",
   "execution_count": 58,
   "metadata": {
    "collapsed": false
   },
   "outputs": [
    {
     "data": {
      "text/html": [
       "<table class=\"simpletable\">\n",
       "<caption>OLS Regression Results</caption>\n",
       "<tr>\n",
       "  <th>Dep. Variable:</th>    <td>ENERGY_STAR_Score</td> <th>  R-squared:         </th> <td>   0.657</td>\n",
       "</tr>\n",
       "<tr>\n",
       "  <th>Model:</th>                   <td>OLS</td>        <th>  Adj. R-squared:    </th> <td>   0.651</td>\n",
       "</tr>\n",
       "<tr>\n",
       "  <th>Method:</th>             <td>Least Squares</td>   <th>  F-statistic:       </th> <td>   115.8</td>\n",
       "</tr>\n",
       "<tr>\n",
       "  <th>Date:</th>             <td>Wed, 22 Jun 2016</td>  <th>  Prob (F-statistic):</th> <td>3.41e-94</td>\n",
       "</tr>\n",
       "<tr>\n",
       "  <th>Time:</th>                 <td>20:31:32</td>      <th>  Log-Likelihood:    </th> <td> -1706.3</td>\n",
       "</tr>\n",
       "<tr>\n",
       "  <th>No. Observations:</th>      <td>   431</td>       <th>  AIC:               </th> <td>   3429.</td>\n",
       "</tr>\n",
       "<tr>\n",
       "  <th>Df Residuals:</th>          <td>   423</td>       <th>  BIC:               </th> <td>   3461.</td>\n",
       "</tr>\n",
       "<tr>\n",
       "  <th>Df Model:</th>              <td>     7</td>       <th>                     </th>     <td> </td>   \n",
       "</tr>\n",
       "<tr>\n",
       "  <th>Covariance Type:</th>      <td>nonrobust</td>     <th>                     </th>     <td> </td>   \n",
       "</tr>\n",
       "</table>\n",
       "<table class=\"simpletable\">\n",
       "<tr>\n",
       "             <td></td>                <th>coef</th>     <th>std err</th>      <th>t</th>      <th>P>|t|</th>  <th>[0.025</th>    <th>0.975]</th>  \n",
       "</tr>\n",
       "<tr>\n",
       "  <th>const</th>                   <td>  111.6197</td> <td>    1.776</td> <td>   62.844</td> <td> 0.000</td> <td>  108.129</td> <td>  115.111</td>\n",
       "</tr>\n",
       "<tr>\n",
       "  <th>SiteEUI</th>                 <td>    0.6186</td> <td>    1.379</td> <td>    0.449</td> <td> 0.654</td> <td>   -2.092</td> <td>    3.329</td>\n",
       "</tr>\n",
       "<tr>\n",
       "  <th>SourceEUI</th>               <td>   -1.4938</td> <td>    0.901</td> <td>   -1.657</td> <td> 0.098</td> <td>   -3.266</td> <td>    0.278</td>\n",
       "</tr>\n",
       "<tr>\n",
       "  <th>GHG_Emissions</th>           <td>    0.0010</td> <td>    0.002</td> <td>    0.511</td> <td> 0.609</td> <td>   -0.003</td> <td>    0.005</td>\n",
       "</tr>\n",
       "<tr>\n",
       "  <th>GHG_Emissions_Intensity</th> <td>    0.2824</td> <td>    3.504</td> <td>    0.081</td> <td> 0.936</td> <td>   -6.604</td> <td>    7.169</td>\n",
       "</tr>\n",
       "<tr>\n",
       "  <th>Weather_Site_EUI</th>        <td>   -0.8187</td> <td>    1.356</td> <td>   -0.604</td> <td> 0.546</td> <td>   -3.485</td> <td>    1.847</td>\n",
       "</tr>\n",
       "<tr>\n",
       "  <th>Weather_Source_EUI</th>      <td>    1.2815</td> <td>    0.903</td> <td>    1.419</td> <td> 0.157</td> <td>   -0.493</td> <td>    3.056</td>\n",
       "</tr>\n",
       "<tr>\n",
       "  <th>Floor_Area</th>              <td> 2.513e-05</td> <td> 8.15e-06</td> <td>    3.081</td> <td> 0.002</td> <td>  9.1e-06</td> <td> 4.12e-05</td>\n",
       "</tr>\n",
       "</table>\n",
       "<table class=\"simpletable\">\n",
       "<tr>\n",
       "  <th>Omnibus:</th>       <td>51.817</td> <th>  Durbin-Watson:     </th> <td>   1.997</td>\n",
       "</tr>\n",
       "<tr>\n",
       "  <th>Prob(Omnibus):</th> <td> 0.000</td> <th>  Jarque-Bera (JB):  </th> <td>  83.916</td>\n",
       "</tr>\n",
       "<tr>\n",
       "  <th>Skew:</th>          <td>-0.759</td> <th>  Prob(JB):          </th> <td>6.00e-19</td>\n",
       "</tr>\n",
       "<tr>\n",
       "  <th>Kurtosis:</th>      <td> 4.539</td> <th>  Cond. No.          </th> <td>1.78e+06</td>\n",
       "</tr>\n",
       "</table>"
      ],
      "text/plain": [
       "<class 'statsmodels.iolib.summary.Summary'>\n",
       "\"\"\"\n",
       "                            OLS Regression Results                            \n",
       "==============================================================================\n",
       "Dep. Variable:      ENERGY_STAR_Score   R-squared:                       0.657\n",
       "Model:                            OLS   Adj. R-squared:                  0.651\n",
       "Method:                 Least Squares   F-statistic:                     115.8\n",
       "Date:                Wed, 22 Jun 2016   Prob (F-statistic):           3.41e-94\n",
       "Time:                        20:31:32   Log-Likelihood:                -1706.3\n",
       "No. Observations:                 431   AIC:                             3429.\n",
       "Df Residuals:                     423   BIC:                             3461.\n",
       "Df Model:                           7                                         \n",
       "Covariance Type:            nonrobust                                         \n",
       "===========================================================================================\n",
       "                              coef    std err          t      P>|t|      [0.025      0.975]\n",
       "-------------------------------------------------------------------------------------------\n",
       "const                     111.6197      1.776     62.844      0.000     108.129     115.111\n",
       "SiteEUI                     0.6186      1.379      0.449      0.654      -2.092       3.329\n",
       "SourceEUI                  -1.4938      0.901     -1.657      0.098      -3.266       0.278\n",
       "GHG_Emissions               0.0010      0.002      0.511      0.609      -0.003       0.005\n",
       "GHG_Emissions_Intensity     0.2824      3.504      0.081      0.936      -6.604       7.169\n",
       "Weather_Site_EUI           -0.8187      1.356     -0.604      0.546      -3.485       1.847\n",
       "Weather_Source_EUI          1.2815      0.903      1.419      0.157      -0.493       3.056\n",
       "Floor_Area               2.513e-05   8.15e-06      3.081      0.002     9.1e-06    4.12e-05\n",
       "==============================================================================\n",
       "Omnibus:                       51.817   Durbin-Watson:                   1.997\n",
       "Prob(Omnibus):                  0.000   Jarque-Bera (JB):               83.916\n",
       "Skew:                          -0.759   Prob(JB):                     6.00e-19\n",
       "Kurtosis:                       4.539   Cond. No.                     1.78e+06\n",
       "==============================================================================\n",
       "\n",
       "Warnings:\n",
       "[1] Standard Errors assume that the covariance matrix of the errors is correctly specified.\n",
       "[2] The condition number is large, 1.78e+06. This might indicate that there are\n",
       "strong multicollinearity or other numerical problems.\n",
       "\"\"\""
      ]
     },
     "execution_count": 58,
     "metadata": {},
     "output_type": "execute_result"
    }
   ],
   "source": [
    "X = Office[[ 'SiteEUI', 'SourceEUI','GHG_Emissions','GHG_Emissions_Intensity','Weather_Site_EUI','Weather_Source_EUI','Floor_Area']]\n",
    "X = sm.add_constant(X)\n",
    "y = Office['ENERGY_STAR_Score']\n",
    "\n",
    "model= sm.OLS(y,X)\n",
    "\n",
    "result = model.fit()\n",
    "\n",
    "result.summary()"
   ]
  },
  {
   "cell_type": "code",
   "execution_count": 59,
   "metadata": {
    "collapsed": false
   },
   "outputs": [
    {
     "data": {
      "text/plain": [
       "const                      111.619727\n",
       "SiteEUI                      0.618579\n",
       "SourceEUI                   -1.493758\n",
       "GHG_Emissions                0.000955\n",
       "GHG_Emissions_Intensity      0.282380\n",
       "Weather_Site_EUI            -0.818716\n",
       "Weather_Source_EUI           1.281544\n",
       "Floor_Area                   0.000025\n",
       "dtype: float64"
      ]
     },
     "execution_count": 59,
     "metadata": {},
     "output_type": "execute_result"
    }
   ],
   "source": [
    "result.params"
   ]
  },
  {
   "cell_type": "code",
   "execution_count": 60,
   "metadata": {
    "collapsed": false
   },
   "outputs": [
    {
     "data": {
      "image/png": "[encoded data removed]",
      "text/plain": [
       "<matplotlib.figure.Figure at 0x10c3ffa10>"
      ]
     },
     "metadata": {},
     "output_type": "display_data"
    }
   ],
   "source": [
    "plt.scatter(Office['ENERGY_STAR_Score'], result.predict())\n",
    "plt.show()"
   ]
  },
  {
   "cell_type": "code",
   "execution_count": 61,
   "metadata": {
    "collapsed": false
   },
   "outputs": [
    {
     "data": {
      "text/html": [
       "<table class=\"simpletable\">\n",
       "<caption>OLS Regression Results</caption>\n",
       "<tr>\n",
       "  <th>Dep. Variable:</th>    <td>ENERGY_STAR_Score</td> <th>  R-squared:         </th> <td>   0.661</td>\n",
       "</tr>\n",
       "<tr>\n",
       "  <th>Model:</th>                   <td>OLS</td>        <th>  Adj. R-squared:    </th> <td>   0.503</td>\n",
       "</tr>\n",
       "<tr>\n",
       "  <th>Method:</th>             <td>Least Squares</td>   <th>  F-statistic:       </th> <td>   4.175</td>\n",
       "</tr>\n",
       "<tr>\n",
       "  <th>Date:</th>             <td>Wed, 22 Jun 2016</td>  <th>  Prob (F-statistic):</th>  <td>0.00967</td>\n",
       "</tr>\n",
       "<tr>\n",
       "  <th>Time:</th>                 <td>20:31:33</td>      <th>  Log-Likelihood:    </th> <td> -98.599</td>\n",
       "</tr>\n",
       "<tr>\n",
       "  <th>No. Observations:</th>      <td>    23</td>       <th>  AIC:               </th> <td>   213.2</td>\n",
       "</tr>\n",
       "<tr>\n",
       "  <th>Df Residuals:</th>          <td>    15</td>       <th>  BIC:               </th> <td>   222.3</td>\n",
       "</tr>\n",
       "<tr>\n",
       "  <th>Df Model:</th>              <td>     7</td>       <th>                     </th>     <td> </td>   \n",
       "</tr>\n",
       "<tr>\n",
       "  <th>Covariance Type:</th>      <td>nonrobust</td>     <th>                     </th>     <td> </td>   \n",
       "</tr>\n",
       "</table>\n",
       "<table class=\"simpletable\">\n",
       "<tr>\n",
       "             <td></td>                <th>coef</th>     <th>std err</th>      <th>t</th>      <th>P>|t|</th>  <th>[0.025</th>    <th>0.975]</th>  \n",
       "</tr>\n",
       "<tr>\n",
       "  <th>const</th>                   <td>  113.8416</td> <td>   20.970</td> <td>    5.429</td> <td> 0.000</td> <td>   69.146</td> <td>  158.538</td>\n",
       "</tr>\n",
       "<tr>\n",
       "  <th>SiteEUI</th>                 <td>   41.6243</td> <td>   67.285</td> <td>    0.619</td> <td> 0.545</td> <td> -101.790</td> <td>  185.039</td>\n",
       "</tr>\n",
       "<tr>\n",
       "  <th>SourceEUI</th>               <td>  -43.8497</td> <td>   63.793</td> <td>   -0.687</td> <td> 0.502</td> <td> -179.822</td> <td>   92.123</td>\n",
       "</tr>\n",
       "<tr>\n",
       "  <th>GHG_Emissions</th>           <td>    0.1385</td> <td>    0.368</td> <td>    0.377</td> <td> 0.712</td> <td>   -0.645</td> <td>    0.922</td>\n",
       "</tr>\n",
       "<tr>\n",
       "  <th>GHG_Emissions_Intensity</th> <td>  -34.2867</td> <td>   77.182</td> <td>   -0.444</td> <td> 0.663</td> <td> -198.797</td> <td>  130.223</td>\n",
       "</tr>\n",
       "<tr>\n",
       "  <th>Weather_Site_EUI</th>        <td>  -41.9717</td> <td>   67.387</td> <td>   -0.623</td> <td> 0.543</td> <td> -185.603</td> <td>  101.659</td>\n",
       "</tr>\n",
       "<tr>\n",
       "  <th>Weather_Source_EUI</th>      <td>   44.1122</td> <td>   63.644</td> <td>    0.693</td> <td> 0.499</td> <td>  -91.542</td> <td>  179.766</td>\n",
       "</tr>\n",
       "<tr>\n",
       "  <th>Floor_Area</th>              <td>-6.992e-05</td> <td>    0.001</td> <td>   -0.095</td> <td> 0.926</td> <td>   -0.002</td> <td>    0.002</td>\n",
       "</tr>\n",
       "</table>\n",
       "<table class=\"simpletable\">\n",
       "<tr>\n",
       "  <th>Omnibus:</th>       <td>17.755</td> <th>  Durbin-Watson:     </th> <td>   1.627</td>\n",
       "</tr>\n",
       "<tr>\n",
       "  <th>Prob(Omnibus):</th> <td> 0.000</td> <th>  Jarque-Bera (JB):  </th> <td>  23.339</td>\n",
       "</tr>\n",
       "<tr>\n",
       "  <th>Skew:</th>          <td>-1.502</td> <th>  Prob(JB):          </th> <td>8.55e-06</td>\n",
       "</tr>\n",
       "<tr>\n",
       "  <th>Kurtosis:</th>      <td> 6.915</td> <th>  Cond. No.          </th> <td>9.50e+05</td>\n",
       "</tr>\n",
       "</table>"
      ],
      "text/plain": [
       "<class 'statsmodels.iolib.summary.Summary'>\n",
       "\"\"\"\n",
       "                            OLS Regression Results                            \n",
       "==============================================================================\n",
       "Dep. Variable:      ENERGY_STAR_Score   R-squared:                       0.661\n",
       "Model:                            OLS   Adj. R-squared:                  0.503\n",
       "Method:                 Least Squares   F-statistic:                     4.175\n",
       "Date:                Wed, 22 Jun 2016   Prob (F-statistic):            0.00967\n",
       "Time:                        20:31:33   Log-Likelihood:                -98.599\n",
       "No. Observations:                  23   AIC:                             213.2\n",
       "Df Residuals:                      15   BIC:                             222.3\n",
       "Df Model:                           7                                         \n",
       "Covariance Type:            nonrobust                                         \n",
       "===========================================================================================\n",
       "                              coef    std err          t      P>|t|      [0.025      0.975]\n",
       "-------------------------------------------------------------------------------------------\n",
       "const                     113.8416     20.970      5.429      0.000      69.146     158.538\n",
       "SiteEUI                    41.6243     67.285      0.619      0.545    -101.790     185.039\n",
       "SourceEUI                 -43.8497     63.793     -0.687      0.502    -179.822      92.123\n",
       "GHG_Emissions               0.1385      0.368      0.377      0.712      -0.645       0.922\n",
       "GHG_Emissions_Intensity   -34.2867     77.182     -0.444      0.663    -198.797     130.223\n",
       "Weather_Site_EUI          -41.9717     67.387     -0.623      0.543    -185.603     101.659\n",
       "Weather_Source_EUI         44.1122     63.644      0.693      0.499     -91.542     179.766\n",
       "Floor_Area              -6.992e-05      0.001     -0.095      0.926      -0.002       0.002\n",
       "==============================================================================\n",
       "Omnibus:                       17.755   Durbin-Watson:                   1.627\n",
       "Prob(Omnibus):                  0.000   Jarque-Bera (JB):               23.339\n",
       "Skew:                          -1.502   Prob(JB):                     8.55e-06\n",
       "Kurtosis:                       6.915   Cond. No.                     9.50e+05\n",
       "==============================================================================\n",
       "\n",
       "Warnings:\n",
       "[1] Standard Errors assume that the covariance matrix of the errors is correctly specified.\n",
       "[2] The condition number is large, 9.5e+05. This might indicate that there are\n",
       "strong multicollinearity or other numerical problems.\n",
       "\"\"\""
      ]
     },
     "execution_count": 61,
     "metadata": {},
     "output_type": "execute_result"
    }
   ],
   "source": [
    "X = Worship_Facility[[ 'SiteEUI', 'SourceEUI','GHG_Emissions','GHG_Emissions_Intensity','Weather_Site_EUI','Weather_Source_EUI','Floor_Area']]\n",
    "X = sm.add_constant(X)\n",
    "y = Worship_Facility['ENERGY_STAR_Score']\n",
    "\n",
    "model= sm.OLS(y,X)\n",
    "\n",
    "result = model.fit()\n",
    "\n",
    "result.summary()"
   ]
  },
  {
   "cell_type": "code",
   "execution_count": 79,
   "metadata": {
    "collapsed": false
   },
   "outputs": [
    {
     "data": {
      "text/html": [
       "<table class=\"simpletable\">\n",
       "<caption>OLS Regression Results</caption>\n",
       "<tr>\n",
       "  <th>Dep. Variable:</th>    <td>ENERGY_STAR_Score</td> <th>  R-squared:         </th> <td>   0.392</td>\n",
       "</tr>\n",
       "<tr>\n",
       "  <th>Model:</th>                   <td>OLS</td>        <th>  Adj. R-squared:    </th> <td>   0.386</td>\n",
       "</tr>\n",
       "<tr>\n",
       "  <th>Method:</th>             <td>Least Squares</td>   <th>  F-statistic:       </th> <td>   60.25</td>\n",
       "</tr>\n",
       "<tr>\n",
       "  <th>Date:</th>             <td>Wed, 22 Jun 2016</td>  <th>  Prob (F-statistic):</th> <td>1.28e-66</td>\n",
       "</tr>\n",
       "<tr>\n",
       "  <th>Time:</th>                 <td>20:58:42</td>      <th>  Log-Likelihood:    </th> <td> -2926.7</td>\n",
       "</tr>\n",
       "<tr>\n",
       "  <th>No. Observations:</th>      <td>   661</td>       <th>  AIC:               </th> <td>   5869.</td>\n",
       "</tr>\n",
       "<tr>\n",
       "  <th>Df Residuals:</th>          <td>   653</td>       <th>  BIC:               </th> <td>   5905.</td>\n",
       "</tr>\n",
       "<tr>\n",
       "  <th>Df Model:</th>              <td>     7</td>       <th>                     </th>     <td> </td>   \n",
       "</tr>\n",
       "<tr>\n",
       "  <th>Covariance Type:</th>      <td>nonrobust</td>     <th>                     </th>     <td> </td>   \n",
       "</tr>\n",
       "</table>\n",
       "<table class=\"simpletable\">\n",
       "<tr>\n",
       "             <td></td>                <th>coef</th>     <th>std err</th>      <th>t</th>      <th>P>|t|</th>  <th>[0.025</th>    <th>0.975]</th>  \n",
       "</tr>\n",
       "<tr>\n",
       "  <th>const</th>                   <td>   88.4694</td> <td>    1.602</td> <td>   55.235</td> <td> 0.000</td> <td>   85.324</td> <td>   91.614</td>\n",
       "</tr>\n",
       "<tr>\n",
       "  <th>SiteEUI</th>                 <td>    0.7217</td> <td>    1.522</td> <td>    0.474</td> <td> 0.636</td> <td>   -2.267</td> <td>    3.710</td>\n",
       "</tr>\n",
       "<tr>\n",
       "  <th>SourceEUI</th>               <td>   -1.6981</td> <td>    1.006</td> <td>   -1.688</td> <td> 0.092</td> <td>   -3.674</td> <td>    0.278</td>\n",
       "</tr>\n",
       "<tr>\n",
       "  <th>GHG_Emissions</th>           <td>    0.0068</td> <td>    0.001</td> <td>    5.096</td> <td> 0.000</td> <td>    0.004</td> <td>    0.009</td>\n",
       "</tr>\n",
       "<tr>\n",
       "  <th>GHG_Emissions_Intensity</th> <td>   -4.4375</td> <td>    4.963</td> <td>   -0.894</td> <td> 0.372</td> <td>  -14.183</td> <td>    5.308</td>\n",
       "</tr>\n",
       "<tr>\n",
       "  <th>Weather_Site_EUI</th>        <td>   -0.7857</td> <td>    1.506</td> <td>   -0.522</td> <td> 0.602</td> <td>   -3.743</td> <td>    2.171</td>\n",
       "</tr>\n",
       "<tr>\n",
       "  <th>Weather_Source_EUI</th>      <td>    1.7268</td> <td>    1.007</td> <td>    1.715</td> <td> 0.087</td> <td>   -0.250</td> <td>    3.704</td>\n",
       "</tr>\n",
       "<tr>\n",
       "  <th>Floor_Area</th>              <td>-5.438e-06</td> <td> 6.56e-06</td> <td>   -0.829</td> <td> 0.407</td> <td>-1.83e-05</td> <td> 7.43e-06</td>\n",
       "</tr>\n",
       "</table>\n",
       "<table class=\"simpletable\">\n",
       "<tr>\n",
       "  <th>Omnibus:</th>       <td>89.648</td> <th>  Durbin-Watson:     </th> <td>   1.971</td>\n",
       "</tr>\n",
       "<tr>\n",
       "  <th>Prob(Omnibus):</th> <td> 0.000</td> <th>  Jarque-Bera (JB):  </th> <td> 141.790</td>\n",
       "</tr>\n",
       "<tr>\n",
       "  <th>Skew:</th>          <td>-0.887</td> <th>  Prob(JB):          </th> <td>1.62e-31</td>\n",
       "</tr>\n",
       "<tr>\n",
       "  <th>Kurtosis:</th>      <td> 4.416</td> <th>  Cond. No.          </th> <td>1.74e+06</td>\n",
       "</tr>\n",
       "</table>"
      ],
      "text/plain": [
       "<class 'statsmodels.iolib.summary.Summary'>\n",
       "\"\"\"\n",
       "                            OLS Regression Results                            \n",
       "==============================================================================\n",
       "Dep. Variable:      ENERGY_STAR_Score   R-squared:                       0.392\n",
       "Model:                            OLS   Adj. R-squared:                  0.386\n",
       "Method:                 Least Squares   F-statistic:                     60.25\n",
       "Date:                Wed, 22 Jun 2016   Prob (F-statistic):           1.28e-66\n",
       "Time:                        20:58:42   Log-Likelihood:                -2926.7\n",
       "No. Observations:                 661   AIC:                             5869.\n",
       "Df Residuals:                     653   BIC:                             5905.\n",
       "Df Model:                           7                                         \n",
       "Covariance Type:            nonrobust                                         \n",
       "===========================================================================================\n",
       "                              coef    std err          t      P>|t|      [0.025      0.975]\n",
       "-------------------------------------------------------------------------------------------\n",
       "const                      88.4694      1.602     55.235      0.000      85.324      91.614\n",
       "SiteEUI                     0.7217      1.522      0.474      0.636      -2.267       3.710\n",
       "SourceEUI                  -1.6981      1.006     -1.688      0.092      -3.674       0.278\n",
       "GHG_Emissions               0.0068      0.001      5.096      0.000       0.004       0.009\n",
       "GHG_Emissions_Intensity    -4.4375      4.963     -0.894      0.372     -14.183       5.308\n",
       "Weather_Site_EUI           -0.7857      1.506     -0.522      0.602      -3.743       2.171\n",
       "Weather_Source_EUI          1.7268      1.007      1.715      0.087      -0.250       3.704\n",
       "Floor_Area              -5.438e-06   6.56e-06     -0.829      0.407   -1.83e-05    7.43e-06\n",
       "==============================================================================\n",
       "Omnibus:                       89.648   Durbin-Watson:                   1.971\n",
       "Prob(Omnibus):                  0.000   Jarque-Bera (JB):              141.790\n",
       "Skew:                          -0.887   Prob(JB):                     1.62e-31\n",
       "Kurtosis:                       4.416   Cond. No.                     1.74e+06\n",
       "==============================================================================\n",
       "\n",
       "Warnings:\n",
       "[1] Standard Errors assume that the covariance matrix of the errors is correctly specified.\n",
       "[2] The condition number is large, 1.74e+06. This might indicate that there are\n",
       "strong multicollinearity or other numerical problems.\n",
       "\"\"\""
      ]
     },
     "execution_count": 79,
     "metadata": {},
     "output_type": "execute_result"
    }
   ],
   "source": [
    "X = energy[[ 'SiteEUI', 'SourceEUI','GHG_Emissions','GHG_Emissions_Intensity','Weather_Site_EUI','Weather_Source_EUI','Floor_Area']]\n",
    "X = sm.add_constant(X)\n",
    "y = energy['ENERGY_STAR_Score']\n",
    "\n",
    "model= sm.OLS(y,X)\n",
    "\n",
    "result = model.fit()\n",
    "\n",
    "result.summary()"
   ]
  },
  {
   "cell_type": "code",
   "execution_count": 81,
   "metadata": {
    "collapsed": false
   },
   "outputs": [
    {
     "data": {
      "text/plain": [
       "<matplotlib.collections.PathCollection at 0x10c9a8210>"
      ]
     },
     "execution_count": 81,
     "metadata": {},
     "output_type": "execute_result"
    },
    {
     "data": {
      "image/png": "[encoded data removed]",
      "text/plain": [
       "<matplotlib.figure.Figure at 0x10cfd1550>"
      ]
     },
     "metadata": {},
     "output_type": "display_data"
    }
   ],
   "source": [
    "plt.scatter(energy['ENERGY_STAR_Score'],result.predict())"
   ]
  }
 ],
 "metadata": {
  "kernelspec": {
   "display_name": "Python 2",
   "language": "python",
   "name": "python2"
  },
  "language_info": {
   "codemirror_mode": {
    "name": "ipython",
    "version": 2
   },
   "file_extension": ".py",
   "mimetype": "text/x-python",
   "name": "python",
   "nbconvert_exporter": "python",
   "pygments_lexer": "ipython2",
   "version": "2.7.11"
  }
 },
 "nbformat": 4,
 "nbformat_minor": 0
}
